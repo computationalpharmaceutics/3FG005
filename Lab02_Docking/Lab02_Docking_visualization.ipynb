{
  "cells": [
    {
      "cell_type": "markdown",
      "source": [
        "![Open in Colab](https://colab.research.google.com/assets/colab-badge.svg)\n"
      ],
      "metadata": {
        "id": "SAJyl5wgId_d"
      }
    },
    {
      "cell_type": "markdown",
      "source": [
        "**Scenario 1: No information about the epitope is available.**\n",
        "\n",
        "We have downloaded and saved the first model of each cluster (in the PDB format) from the result page: https://rascar.science.uu.nl/haddock2.4/result/4242424242/0-4G6M-Ab-Ag-surface-sas-filtered. These files can be downloaded from the github folder using the following code segment. We also placed the 4G6M-matched.pdb file in the same folder (which will be out reference structure).\n"
      ],
      "metadata": {
        "id": "BzGQr_0Urh8I"
      }
    },
    {
      "cell_type": "code",
      "execution_count": null,
      "metadata": {
        "id": "98jG0N2m_fJN"
      },
      "outputs": [],
      "source": [
        "!git clone https://github.com/computationalpharmaceutics/3FG005.git"
      ]
    },
    {
      "cell_type": "markdown",
      "source": [
        "We are not collecting all the PDB files for the calculation. You will see the name of the cluster PDB files below."
      ],
      "metadata": {
        "id": "IJSwkaRkskqr"
      }
    },
    {
      "cell_type": "code",
      "execution_count": null,
      "metadata": {
        "id": "JC6FUT_6_tUy"
      },
      "outputs": [],
      "source": [
        "import glob\n",
        "\n",
        "\n",
        "# Adjust the path to match your repo structure\n",
        "pdb_folder = \"/content/3FG005/Lab02_Docking/Scenario_1/\"\n",
        "pdb_files = sorted(glob.glob(pdb_folder + \"*.pdb\"))\n",
        "\n",
        "ref_file = [f for f in pdb_files if \"4G6M-matched\" in f][0]\n",
        "cluster_files = [f for f in pdb_files if \"4G6M-matched\" not in f]\n",
        "\n",
        "print(\"Reference:\", ref_file)\n",
        "print(\"Cluster files:\", cluster_files)"
      ]
    },
    {
      "cell_type": "markdown",
      "source": [
        "You will now see the rmsd value for each molecules in the terminal screen when you run the following two code segments.\n",
        "\n",
        "In CAPRI, the L-RMSD value defines the quality of a model:\n",
        "\n",
        "incorrect model: L-RMSD>10Å\n",
        "\n",
        "acceptable model: L-RMSD<10Å\n",
        "\n",
        "medium quality model: L-RMSD<5Å\n",
        "\n",
        "high quality model: L-RMSD<1Å\n",
        "\n",
        "\n",
        "What is the quality of these models? Did any model pass the acceptable threshold?\n"
      ],
      "metadata": {
        "id": "UbQk-6Jps1yh"
      }
    },
    {
      "cell_type": "code",
      "source": [
        "import numpy as np\n",
        "import os\n",
        "\n",
        "def parse_pdb_backbone_chain_atoms(pdb_file, chain_id, resid_range=None):\n",
        "    backbone_atoms = {'N', 'CA', 'C', 'O'}\n",
        "    atoms = {}\n",
        "    with open(pdb_file, 'r') as f:\n",
        "        for line in f:\n",
        "            if not line.startswith(\"ATOM\"): continue\n",
        "            atom_name = line[12:16].strip()\n",
        "            chain = line[21].strip()\n",
        "            resid = int(line[22:26])\n",
        "            if atom_name not in backbone_atoms or chain != chain_id: continue\n",
        "            if resid_range and not (resid_range[0] <= resid <= resid_range[1]): continue\n",
        "            x, y, z = float(line[30:38]), float(line[38:46]), float(line[46:54])\n",
        "            atoms[(resid, atom_name)] = np.array([x, y, z])\n",
        "    return atoms\n",
        "\n",
        "def kabsch(P, Q):\n",
        "    C = np.dot(P.T, Q)\n",
        "    V, S, W = np.linalg.svd(C)\n",
        "    if np.linalg.det(V) * np.linalg.det(W) < 0: V[:, -1] = -V[:, -1]\n",
        "    return np.dot(V, W)\n",
        "\n",
        "def calculate_rmsd(P, Q):\n",
        "    return np.sqrt(np.mean(np.sum((P - Q)**2, axis=1)))"
      ],
      "metadata": {
        "id": "cJLETjWuoMgQ"
      },
      "execution_count": null,
      "outputs": []
    },
    {
      "cell_type": "code",
      "source": [
        "# Parse reference once\n",
        "ref_A = parse_pdb_backbone_chain_atoms(ref_file, 'A', resid_range=(0, 225))\n",
        "ref_B = parse_pdb_backbone_chain_atoms(ref_file, 'B')\n",
        "\n",
        "for mob_file in cluster_files:\n",
        "    mob_A = parse_pdb_backbone_chain_atoms(mob_file, 'A', resid_range=(0, 225))\n",
        "    mob_B = parse_pdb_backbone_chain_atoms(mob_file, 'B')\n",
        "\n",
        "    # Match atom keys\n",
        "    keys_A = sorted(set(ref_A) & set(mob_A))\n",
        "    keys_B = sorted(set(ref_B) & set(mob_B))\n",
        "\n",
        "    if len(keys_A) == 0 or len(keys_B) == 0:\n",
        "        print(f\"{os.path.basename(mob_file)}: No common atoms — skipping.\")\n",
        "        continue\n",
        "\n",
        "    P_A = np.array([mob_A[k] for k in keys_A])\n",
        "    Q_A = np.array([ref_A[k] for k in keys_A])\n",
        "    P_B = np.array([mob_B[k] for k in keys_B])\n",
        "    Q_B = np.array([ref_B[k] for k in keys_B])\n",
        "\n",
        "    # Align on chain A\n",
        "    P_A_c = P_A - P_A.mean(axis=0)\n",
        "    Q_A_c = Q_A - Q_A.mean(axis=0)\n",
        "    R = kabsch(P_A_c, Q_A_c)\n",
        "\n",
        "    # Apply rotation to chain B and calculate RMSD\n",
        "    P_B_c = P_B - P_B.mean(axis=0)\n",
        "    Q_B_c = Q_B - Q_B.mean(axis=0)\n",
        "    P_B_aligned = P_B_c @ R\n",
        "    rmsd_val = calculate_rmsd(P_B_aligned, Q_B_c)\n",
        "\n",
        "    print(f\"RMSD of {os.path.basename(mob_file)}: {rmsd_val:.3f} Å\")"
      ],
      "metadata": {
        "id": "dsFQgCcHxLZp"
      },
      "execution_count": null,
      "outputs": []
    },
    {
      "cell_type": "markdown",
      "source": [
        "Let’s now check if the active and passive residues which we defined are actually part of the interface. For this, we will first install py3Dmol"
      ],
      "metadata": {
        "id": "ENJCcLQqtpjR"
      }
    },
    {
      "cell_type": "code",
      "source": [
        "!pip install -q py3Dmol"
      ],
      "metadata": {
        "id": "VNygTmfxL1ru"
      },
      "execution_count": null,
      "outputs": []
    },
    {
      "cell_type": "markdown",
      "source": [
        "The active and passive residues are as follows"
      ],
      "metadata": {
        "id": "mxvAo09ftxPb"
      }
    },
    {
      "cell_type": "code",
      "source": [
        "ab_active = [26,27,28,29,30,31,32,55,56,57,101,102,103,106,108,146,147,148,150,151,152,170,172,212,213,214,215]\n",
        "ag_passive = [22,46,47,48,64,71,72,73,74,75,82,84,85,86,87,91,92,95,114,116,117]"
      ],
      "metadata": {
        "id": "qq7jXSDwL6-B"
      },
      "execution_count": null,
      "outputs": []
    },
    {
      "cell_type": "markdown",
      "source": [
        "Run the below segment first to load the coloring scheme for py3Dmol"
      ],
      "metadata": {
        "id": "16_BHQi_uAKI"
      }
    },
    {
      "cell_type": "code",
      "source": [
        "import py3Dmol\n",
        "\n",
        "def display_interface(pdb_path, ab_residues, ag_residues):\n",
        "    with open(pdb_path, 'r') as f:\n",
        "        pdb_data = f.read()\n",
        "\n",
        "    view = py3Dmol.view(width=800, height=500)\n",
        "    view.addModel(pdb_data, 'pdb')\n",
        "\n",
        "    # Default: cartoon and light gray\n",
        "    view.setStyle({'cartoon': {'color': 'lightgray'}})\n",
        "\n",
        "    # Highlight Ab_active (chain A, red)\n",
        "    for resi in ab_residues:\n",
        "        view.addStyle({'chain': 'A', 'resi': str(resi)},\n",
        "                      {'cartoon': {'color': 'red'}})\n",
        "\n",
        "    # Highlight Ag_passive (chain B, orange)\n",
        "    for resi in ag_residues:\n",
        "        view.addStyle({'chain': 'B', 'resi': str(resi)},\n",
        "                      {'cartoon': {'color': 'orange'}})\n",
        "\n",
        "    view.zoomTo()\n",
        "    return view.show()\n"
      ],
      "metadata": {
        "id": "F6IvBGSYL-4h"
      },
      "execution_count": null,
      "outputs": []
    },
    {
      "cell_type": "markdown",
      "source": [
        "In the next segment, you will be able to visualize the molecules. I have used here 'cluster5_1.pdb'. You can start with this and later change other PDB files too.\n",
        "\n",
        "Since have defined the entire surface of the antigen as passive, the actual epitope is not compelled to be at the interface. It can still happen, however this pose won’t be preferred to any other.\n",
        "\n",
        "Are the passive residues at the interface in different clusters? How is it shown in the HADDOCK score?"
      ],
      "metadata": {
        "id": "hDQkjZDYuGdx"
      }
    },
    {
      "cell_type": "code",
      "source": [
        "# Replace with the cluster PDB you want to inspect\n",
        "display_interface(\"/content/3FG005/Lab02_Docking/Scenario_1/cluster5_1.pdb\", ab_active, ag_passive)"
      ],
      "metadata": {
        "id": "jK21Qqb0MBxc"
      },
      "execution_count": null,
      "outputs": []
    },
    {
      "cell_type": "markdown",
      "source": [
        "**Scenario 2: A loose definition of the epitope is known**\n",
        "\n",
        "\n",
        "Now we can compare our docking without any information about the epitope with a run where the epitope was defined.\n",
        "\n",
        "We will proceed the same way as in Scenario 1. We downloaded the best models of individual clusters, the first cluster PDB files from the results page: https://rascar.science.uu.nl/haddock2.4/result/4242424242/0-4G6M-Ab-Ag-sas-filtered and compare them to 4G6M-matched.\n"
      ],
      "metadata": {
        "id": "-qtSlta3uz-B"
      }
    },
    {
      "cell_type": "code",
      "source": [
        "import glob\n",
        "\n",
        "\n",
        "# Adjust the path to match your repo structure\n",
        "pdb_folder_2 = \"/content/3FG005/Lab02_Docking/Scenario_2/\"\n",
        "pdb_files = sorted(glob.glob(pdb_folder_2 + \"*.pdb\"))\n",
        "\n",
        "ref_file = [f for f in pdb_files if \"4G6M-matched\" in f][0]\n",
        "cluster_files = [f for f in pdb_files if \"4G6M-matched\" not in f]\n",
        "\n",
        "print(\"Reference:\", ref_file)\n",
        "print(\"Cluster files:\", cluster_files)"
      ],
      "metadata": {
        "id": "_3-QAMBsRPSy"
      },
      "execution_count": null,
      "outputs": []
    },
    {
      "cell_type": "markdown",
      "source": [
        "The following segment will provide th RMSD values. Has the L-RMSD value decreased and the CAPRI quality improved? Are the passive residues of the antigen always on the interface?"
      ],
      "metadata": {
        "id": "p-cSYx15vF57"
      }
    },
    {
      "cell_type": "code",
      "source": [
        "# Parse reference once\n",
        "ref_A = parse_pdb_backbone_chain_atoms(ref_file, 'A', resid_range=(0, 225))\n",
        "ref_B = parse_pdb_backbone_chain_atoms(ref_file, 'B')\n",
        "\n",
        "for mob_file in cluster_files:\n",
        "    mob_A = parse_pdb_backbone_chain_atoms(mob_file, 'A', resid_range=(0, 225))\n",
        "    mob_B = parse_pdb_backbone_chain_atoms(mob_file, 'B')\n",
        "\n",
        "    # Match atom keys\n",
        "    keys_A = sorted(set(ref_A) & set(mob_A))\n",
        "    keys_B = sorted(set(ref_B) & set(mob_B))\n",
        "\n",
        "    if len(keys_A) == 0 or len(keys_B) == 0:\n",
        "        print(f\"{os.path.basename(mob_file)}: No common atoms — skipping.\")\n",
        "        continue\n",
        "\n",
        "    P_A = np.array([mob_A[k] for k in keys_A])\n",
        "    Q_A = np.array([ref_A[k] for k in keys_A])\n",
        "    P_B = np.array([mob_B[k] for k in keys_B])\n",
        "    Q_B = np.array([ref_B[k] for k in keys_B])\n",
        "\n",
        "    # Align on chain A\n",
        "    P_A_c = P_A - P_A.mean(axis=0)\n",
        "    Q_A_c = Q_A - Q_A.mean(axis=0)\n",
        "    R = kabsch(P_A_c, Q_A_c)\n",
        "\n",
        "    # Apply rotation to chain B and calculate RMSD\n",
        "    P_B_c = P_B - P_B.mean(axis=0)\n",
        "    Q_B_c = Q_B - Q_B.mean(axis=0)\n",
        "    P_B_aligned = P_B_c @ R\n",
        "    rmsd_val = calculate_rmsd(P_B_aligned, Q_B_c)\n",
        "\n",
        "    print(f\"RMSD of {os.path.basename(mob_file)}: {rmsd_val:.3f} Å\")"
      ],
      "metadata": {
        "id": "eW_QELD3n9A1"
      },
      "execution_count": null,
      "outputs": []
    },
    {
      "cell_type": "markdown",
      "source": [
        "Below you can also visualize the interface."
      ],
      "metadata": {
        "id": "_mQw7j0QvMbX"
      }
    },
    {
      "cell_type": "code",
      "source": [
        "# Replace with the cluster PDB you want to inspect\n",
        "display_interface(\"/content/3FG005/Lab02_Docking/Scenario_2/cluster4_1.pdb\", ab_active, ag_passive)"
      ],
      "metadata": {
        "id": "kjYjxkwjS6PU"
      },
      "execution_count": null,
      "outputs": []
    }
  ],
  "metadata": {
    "colab": {
      "provenance": []
    },
    "kernelspec": {
      "display_name": "Python 3",
      "name": "python3"
    },
    "language_info": {
      "name": "python"
    }
  },
  "nbformat": 4,
  "nbformat_minor": 0
}